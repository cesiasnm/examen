{
 "cells": [
  {
   "cell_type": "markdown",
   "id": "c629ca63",
   "metadata": {},
   "source": [
    "# Problema 3. Reemplazo de herramientas"
   ]
  },
  {
   "cell_type": "markdown",
   "id": "1e783568",
   "metadata": {},
   "source": [
    "Una empresa dispone de varias máquinas herramienta cuyas herramientas de corte se desgastan constantemente. Cuando esto ocurre, la máquina es inservible. En la actualidad el mantenimiento es correctivo reemplazándose una herramienta cuando falla. Dado que cada máquina dispone de una torre con cinco herramientas, se propone reemplazar toda la torre de herramientas (las cinco herramientas de golpe) cada vez que falle una, lo que debería reducir la frecuencia de desgaste de las herramientas. El tiempo necesario para el reemplazo de una herramienta es de una hora. Las cinco pueden reemplazarse en dos horas. El coste de una hora de máquina parada es de cien euros. Cada herramienta cuesta diez euros. La tabla siguiente recoge los datos de averías en el caso de sustituir una sola herramienta cada vez.\n",
    "\n",
    "Horas entre averías si sustituye una herramienta 20 30 40 50 60 70 80\n",
    "Probabilidad 0.05 0.15 0.15 0.20 0.20 0.15 0.10\n",
    "\n",
    "Si las cinco herramientas se cambian cada vez que una falla, la distribución de probabilidad entre fallos es la siguiente:\n",
    "\n",
    "Horas entre averías si sustituye una herramienta 30 40 50 60 70 80 90\n",
    "Probabilidad 0.05 0.15 0.15 0.20 0.20 0.15 0.10\n",
    "\n",
    "(a) Determine mediante simulación la mejor política de reemplazo de las herramien-\n",
    "tas de corte."
   ]
  },
  {
   "cell_type": "markdown",
   "id": "77048e95",
   "metadata": {},
   "source": [
    "### 1. Identifique las variables"
   ]
  },
  {
   "cell_type": "markdown",
   "id": "73b28281",
   "metadata": {},
   "source": [
    "Tenemos dos variables:\n",
    "\n",
    "x1 = coste_total_correctivo que es el costo por reemplazar solo una herramienta\n",
    "\n",
    "x2 = coste_total_preventivo que es el costo por reemplazar las 5 herramientas"
   ]
  },
  {
   "cell_type": "markdown",
   "id": "e65c5b88",
   "metadata": {},
   "source": [
    "### 2. Defina el modelo del sistema y los objetivos de la simulación"
   ]
  },
  {
   "cell_type": "markdown",
   "id": "f5cf7c67",
   "metadata": {},
   "source": [
    "Para resolver el problema tenemos que obtener los costes totales obtenidos para determinar la mejor política de reemplazo de las herramientas de corte.\n",
    "\n",
    "Si coste_total_correctivo < coste_total_preventivo entonces convendería en cuestiones económicas tomar la política 1.\n",
    "\n",
    "Objetivo: Determinar el coste de cada política para hacer la comparativa."
   ]
  },
  {
   "cell_type": "code",
   "execution_count": 47,
   "id": "0c3ebe36",
   "metadata": {},
   "outputs": [],
   "source": [
    "import numpy as np\n",
    "import random\n",
    "import matplotlib.pyplot as plt"
   ]
  },
  {
   "cell_type": "code",
   "execution_count": 48,
   "id": "f9153fff",
   "metadata": {},
   "outputs": [],
   "source": [
    "def reemplazar_una_herramienta(horas_transcurridas): \n",
    "    horas_totales = 0\n",
    "    herramientas_reemplazadas = 0\n",
    "    \n",
    "    horas = [20, 30, 40, 50, 60, 70, 80]\n",
    "    probabilidad = [0.05, 0.15, 0.15, 0.20, 0.20, 0.15, 0.10]\n",
    "\n",
    "    while horas_totales < horas_transcurridas:\n",
    "        tiempo_entre_averias = np.random.choice(horas, p=probabilidad)\n",
    "        horas_totales += tiempo_entre_averias\n",
    "\n",
    "        # Si una herramienta falla, se reemplaza\n",
    "        if np.random.rand() < 0.2:\n",
    "            horas_totales += 1\n",
    "            herramientas_reemplazadas += 1\n",
    "\n",
    "    coste_total_correctivo = herramientas_reemplazadas * 10 + (horas_totales / 2) * 100\n",
    "    return coste_total_correctivo"
   ]
  },
  {
   "cell_type": "markdown",
   "id": "05fc3c2e",
   "metadata": {},
   "source": [
    "En este caso, se simula un total de 10,000 horas de uso de las máquinas. Si una herramienta falla, se reemplaza y se suma una hora al tiempo total de mantenimiento. Al final del proceso, se calcula el coste total del mantenimiento correctivo."
   ]
  },
  {
   "cell_type": "code",
   "execution_count": 49,
   "id": "498e91bf",
   "metadata": {},
   "outputs": [],
   "source": [
    "def reemplazar_todo(horas_transcurridas):\n",
    "    horas_totales = 0\n",
    "    herramientas_reemplazadas = 0\n",
    "\n",
    "    horas = [30, 40, 50, 60, 70, 80, 90]\n",
    "    probabilidad = [0.05, 0.15, 0.15, 0.20, 0.20, 0.15, 0.10]\n",
    "    \n",
    "    while horas_totales < horas_transcurridas:\n",
    "        tiempo_entre_averias = np.random.choice(horas, p=probabilidad)\n",
    "        horas_totales += tiempo_entre_averias\n",
    "\n",
    "        # Si una herramienta falla, se reemplaza toda la torre de herramientas\n",
    "        if np.random.rand() < 0.2:\n",
    "            horas_totales += 2\n",
    "            herramientas_reemplazadas += 5\n",
    "\n",
    "    coste_total_preventivo = herramientas_reemplazadas * 10 + (horas_totales / 2) * 100\n",
    "    return coste_total_preventivo"
   ]
  },
  {
   "cell_type": "markdown",
   "id": "e27f9892",
   "metadata": {},
   "source": [
    "En este caso, se simula el mismo tiempo total de uso de las máquinas y se reemplaza toda la torre de herramientas cada vez que falla una herramienta. Al final del proceso, se calcula el coste total del mantenimiento preventivo."
   ]
  },
  {
   "cell_type": "code",
   "execution_count": 53,
   "id": "b482667f",
   "metadata": {},
   "outputs": [
    {
     "name": "stdout",
     "output_type": "stream",
     "text": [
      "Ingrese el número de horas simuladas del uso de las máquinas: 1000\n"
     ]
    }
   ],
   "source": [
    "horas_transcurridas = int(input(\"Ingrese el número de horas simuladas del uso de las máquinas: \"))\n",
    "politica_1 = reemplazar_una_herramienta(horas_transcurridas)\n",
    "politica_2 = reemplazar_todo(horas_transcurridas)"
   ]
  },
  {
   "cell_type": "code",
   "execution_count": 55,
   "id": "ca1f110d",
   "metadata": {},
   "outputs": [
    {
     "name": "stdout",
     "output_type": "stream",
     "text": [
      "La política 1 es la mejor opción.\n"
     ]
    }
   ],
   "source": [
    "if politica_1 < politica_2:\n",
    "    print(\"La política 1 es la mejor opción.\")\n",
    "else:\n",
    "    print(\"La política 2 es la mejor opción.\")\n"
   ]
  },
  {
   "cell_type": "markdown",
   "id": "a7f9fa5d",
   "metadata": {},
   "source": [
    "### 3. Diseñe el experimento"
   ]
  },
  {
   "cell_type": "markdown",
   "id": "d1d279d9",
   "metadata": {},
   "source": [
    "Para estimar la probabilidad de elegir la politica 1, ejecutamos n veces la función anterior y calculamos de manera acumulativa la probabilidad de esa politica."
   ]
  },
  {
   "cell_type": "code",
   "execution_count": 201,
   "id": "fcfc064f",
   "metadata": {},
   "outputs": [],
   "source": [
    "def politicas():\n",
    "    i = 0\n",
    "    politica = 0\n",
    "    \n",
    "    politica_1 = reemplazar_una_herramienta(1000)\n",
    "    politica_2 = reemplazar_todo(1000)\n",
    "        \n",
    "    if politica_1 < politica_2:\n",
    "        politica = 1\n",
    "    else: \n",
    "        politica = 0\n",
    "    return politica"
   ]
  },
  {
   "cell_type": "markdown",
   "id": "4c4291aa",
   "metadata": {},
   "source": [
    "Si la politica mejor es la politica 1, nos regresará un valor de 1, caso contrario de 0."
   ]
  },
  {
   "cell_type": "code",
   "execution_count": 208,
   "id": "8a7d2ed6",
   "metadata": {},
   "outputs": [],
   "source": [
    "def prob_politicas(n):                    \n",
    "    prob = []                       \n",
    "    politic = 0                        \n",
    "    for i in range(n):              \n",
    "        politic += politicas()\n",
    "        prob.append(politic/(i+1))\n",
    "    return prob"
   ]
  },
  {
   "cell_type": "markdown",
   "id": "b0b1dddb",
   "metadata": {},
   "source": [
    "Obtenemos la lista de probabilidades con los valores de probabilidades estimadas al contar las veces que la politica 1 es la mejor y dividir entre las veces que se ha repetido la observación mientras aumenta el número de iteraciones."
   ]
  },
  {
   "cell_type": "code",
   "execution_count": 209,
   "id": "e368375c",
   "metadata": {},
   "outputs": [],
   "source": [
    "x = prob_politicas(100)"
   ]
  },
  {
   "cell_type": "code",
   "execution_count": 210,
   "id": "d097e4e3",
   "metadata": {},
   "outputs": [
    {
     "data": {
      "text/plain": [
       "[<matplotlib.lines.Line2D at 0x179fd68bcd0>]"
      ]
     },
     "execution_count": 210,
     "metadata": {},
     "output_type": "execute_result"
    },
    {
     "data": {
      "image/png": "[encoded data removed]",
      "text/plain": [
       "<Figure size 640x480 with 1 Axes>"
      ]
     },
     "metadata": {},
     "output_type": "display_data"
    }
   ],
   "source": [
    "plt.plot(x) "
   ]
  },
  {
   "cell_type": "markdown",
   "id": "dd4a615b",
   "metadata": {},
   "source": [
    "### 4. Repita el experimento n veces"
   ]
  },
  {
   "cell_type": "code",
   "execution_count": 211,
   "id": "faa18c6a",
   "metadata": {},
   "outputs": [],
   "source": [
    "def modelo(n):\n",
    "    lista=[]\n",
    "    for i in range(n):\n",
    "        s = prob_politicas(500)\n",
    "        lista.append(np.mean(s))\n",
    "    return lista"
   ]
  },
  {
   "cell_type": "code",
   "execution_count": 212,
   "id": "c8371778",
   "metadata": {},
   "outputs": [],
   "source": [
    "Y=modelo(100)"
   ]
  },
  {
   "cell_type": "code",
   "execution_count": 213,
   "id": "a7ba32e1",
   "metadata": {},
   "outputs": [
    {
     "data": {
      "image/png": "[encoded data removed]",
      "text/plain": [
       "<Figure size 640x480 with 1 Axes>"
      ]
     },
     "metadata": {},
     "output_type": "display_data"
    }
   ],
   "source": [
    "plt.hist(Y)\n",
    "plt.show()"
   ]
  },
  {
   "cell_type": "code",
   "execution_count": 215,
   "id": "f72997af",
   "metadata": {},
   "outputs": [
    {
     "name": "stdout",
     "output_type": "stream",
     "text": [
      "0.5994682801078067 0.031550984806158124\n"
     ]
    }
   ],
   "source": [
    "print(np.mean(Y), np.std(Y))"
   ]
  },
  {
   "cell_type": "markdown",
   "id": "314423d7",
   "metadata": {},
   "source": [
    "### 5.  Hallamos el intervalo de confianza"
   ]
  },
  {
   "cell_type": "code",
   "execution_count": 214,
   "id": "81af927a",
   "metadata": {},
   "outputs": [
    {
     "data": {
      "text/plain": [
       "(0.5907227933064638, 0.6082137669091496)"
      ]
     },
     "execution_count": 214,
     "metadata": {},
     "output_type": "execute_result"
    }
   ],
   "source": [
    "np.mean(Y) - 1.96*np.std(Y)/np.sqrt(50), np.mean(Y) + 1.96*np.std(Y)/np.sqrt(50)"
   ]
  }
 ],
 "metadata": {
  "kernelspec": {
   "display_name": "Python 3 (ipykernel)",
   "language": "python",
   "name": "python3"
  },
  "language_info": {
   "codemirror_mode": {
    "name": "ipython",
    "version": 3
   },
   "file_extension": ".py",
   "mimetype": "text/x-python",
   "name": "python",
   "nbconvert_exporter": "python",
   "pygments_lexer": "ipython3",
   "version": "3.9.13"
  }
 },
 "nbformat": 4,
 "nbformat_minor": 5
}
