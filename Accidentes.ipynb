{
 "cells": [
  {
   "cell_type": "markdown",
   "id": "de9f6caa",
   "metadata": {},
   "source": [
    "# Problema 4. Accidentes"
   ]
  },
  {
   "cell_type": "markdown",
   "id": "ff2d1322",
   "metadata": {},
   "source": [
    "El número de accidentes que se producen en una vía de circulación de una ciudad\n",
    "es, en promedio, de dos a la semana. Determínese:\n",
    "\n",
    "(a) Probabilidad de que no se registre ningún accidente en una semana determina-\n",
    "da.\n",
    "\n",
    "(b) Probabilidad de que en un mes haya más de 5 accidentes."
   ]
  },
  {
   "cell_type": "markdown",
   "id": "15443fbd",
   "metadata": {},
   "source": [
    "### 1. Identificamos las variables\n",
    "\n",
    "Tenemos una variable:\n",
    "\n",
    "*promedio de accidentes por semana*"
   ]
  },
  {
   "cell_type": "markdown",
   "id": "c44dedae",
   "metadata": {},
   "source": [
    "### 2. Defina el modelo del sistema y los objetivos de la simulación\n",
    "\n",
    "Sabemos que existe un promedio de dos accidentes por semana, por lo cual se utilizará la función np.random.poisson para generar números aleatorios con una distribución de Poisson con el parámetro lambda correspondiente a la tasa de accidentes por semana o por mes.\n",
    "Luego, se cuentan los casos donde no hay accidentes en una semana y donde hay más de 5 accidentes en un mes y se dividen por el número total de simulaciones para obtener las probabilidades estimadas.\n",
    "\n",
    "Objetivo: Determinar la probabilidad de 0 accidentes en una semana o más de 5 en un mes."
   ]
  },
  {
   "cell_type": "code",
   "execution_count": 46,
   "id": "6c34a59d",
   "metadata": {},
   "outputs": [],
   "source": [
    "import numpy as np\n",
    "import math"
   ]
  },
  {
   "cell_type": "code",
   "execution_count": 47,
   "id": "03336e34",
   "metadata": {},
   "outputs": [],
   "source": [
    "def poisson_probability(k, lamb):\n",
    "    \"\"\"Calcula la probabilidad de obtener k eventos en un intervalo de tiempo con una tasa lambda utilizando la distribución de Poisson.\"\"\"\n",
    "    return (np.exp(-lamb) * lamb**k) / np.math.factorial(k)"
   ]
  },
  {
   "cell_type": "code",
   "execution_count": 48,
   "id": "00d2bd71",
   "metadata": {},
   "outputs": [],
   "source": [
    "def probability_no_accidents_week(lamb):\n",
    "    \"\"\"Calcula la probabilidad de no haber accidentes en una semana con una tasa lambda.\"\"\"\n",
    "    return poisson_probability(0, lamb)"
   ]
  },
  {
   "cell_type": "markdown",
   "id": "d0b96a0b",
   "metadata": {},
   "source": [
    "Luego, se define la función **probability_no_accidents_week** para calcular la probabilidad de no haber accidentes en una semana con una tasa *lamb*"
   ]
  },
  {
   "cell_type": "code",
   "execution_count": 54,
   "id": "d61aa0b7",
   "metadata": {},
   "outputs": [],
   "source": [
    "def probability_more_than_5_accidents_month(lamb):\n",
    "    \"\"\"Calcula la probabilidad de haber más de 5 accidentes en un mes con una tasa lambda.\"\"\" \n",
    "    prob_more_than_5 = 1 - sum([math.exp(-2)*(2*k)/math.factorial(k) for k in range(6)])\n",
    "    return prob_more_than_5"
   ]
  },
  {
   "cell_type": "markdown",
   "id": "37b589fb",
   "metadata": {},
   "source": [
    "Se define la función **probability_more_than_5_accidents_month** para calcular la probabilidad de haber más de 5 accidentes en un mes con una tasa *lamb*"
   ]
  },
  {
   "cell_type": "markdown",
   "id": "aabcc0c6",
   "metadata": {},
   "source": [
    "### 3. Diseñe el experimento"
   ]
  },
  {
   "cell_type": "code",
   "execution_count": 55,
   "id": "2f320a64",
   "metadata": {},
   "outputs": [
    {
     "name": "stdout",
     "output_type": "stream",
     "text": [
      "Probabilidad de no haber accidentes en una semana: 13.53\n",
      "Probabilidad de haber más de 5 accidentes en un mes: 26.69\n"
     ]
    }
   ],
   "source": [
    "lambda_week = 2\n",
    "lambda_month = lambda_week * 4\n",
    "prob_zero_accidents = probability_no_accidents_week(lambda_week)\n",
    "prob_more_than_5_accidents = probability_more_than_5_accidents_month(lambda_month)\n",
    "\n",
    "\n",
    "print(\"Probabilidad de no haber accidentes en una semana:\", round(prob_zero_accidents*100,2))\n",
    "print(\"Probabilidad de haber más de 5 accidentes en un mes:\", round(prob_more_than_5_accidents*100,2))"
   ]
  },
  {
   "cell_type": "markdown",
   "id": "ada89bf4",
   "metadata": {},
   "source": [
    "### 4. Analíticamente"
   ]
  },
  {
   "cell_type": "markdown",
   "id": "e124871c",
   "metadata": {},
   "source": [
    "(a) La probabilidad de que no se registre ningún accidente en una semana determinada se puede calcular utilizando la distribución de Poisson con un valor medio de dos accidentes por semana:\n",
    "\n",
    "P(X=0) = e^(-2) * 2^0 / 0! = e^(-2) ≈ 0.1353\n",
    "\n",
    "Donde X es el número de accidentes en una semana determinada.\n",
    "\n",
    "Entonces, la probabilidad de no tener ningún accidente en una semana es del 13.53%.\n",
    "\n",
    "(b) La probabilidad de que en un mes haya más de 5 accidentes se puede calcular sumando las probabilidades de tener 6, 7, 8, 9, 10 o más accidentes en un mes. Utilizando la distribución de Poisson con un valor medio de 2 accidentes por semana, podemos calcular cada una de estas probabilidades y luego sumarlas:\n",
    "\n",
    "P(X > 5) = P(X=6) + P(X=7) + P(X=8) + P(X=9) + P(X=10) + ...\n",
    "\n",
    "P(X=k) = e^(-2) * 2^k / k!\n",
    "\n",
    "Entonces:\n",
    "\n",
    "P(X > 5) = 1 - P(X <= 5)\n",
    "= 1 - [P(X=0) + P(X=1) + P(X=2) + P(X=3) + P(X=4) + P(X=5)]\n",
    "= 1 - [e^(-2) + 2e^(-2) + 4e^(-2)/2 + 8e^(-2)/6 + 16e^(-2)/24 + 32e^(-2)/120]\n",
    "≈ 0.2650\n",
    "\n",
    "Lo que significa que hay una probabilidad del 26.5% de que en un mes haya más de 5 accidentes en esa vía de circulación de la ciudad."
   ]
  }
 ],
 "metadata": {
  "kernelspec": {
   "display_name": "Python 3 (ipykernel)",
   "language": "python",
   "name": "python3"
  },
  "language_info": {
   "codemirror_mode": {
    "name": "ipython",
    "version": 3
   },
   "file_extension": ".py",
   "mimetype": "text/x-python",
   "name": "python",
   "nbconvert_exporter": "python",
   "pygments_lexer": "ipython3",
   "version": "3.9.13"
  }
 },
 "nbformat": 4,
 "nbformat_minor": 5
}
