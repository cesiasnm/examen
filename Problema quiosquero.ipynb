{
 "cells": [
  {
   "cell_type": "markdown",
   "id": "9a00cc57",
   "metadata": {},
   "source": [
    "# Problema 2. El quiosquero"
   ]
  },
  {
   "cell_type": "markdown",
   "id": "d75a7cdf",
   "metadata": {},
   "source": [
    "Un quiosquero vende periódicos a 1.10 euros cada uno. Cada periódico le cuesta al quiosquero 0.90 euros. Las ventas de periódicos del quiosquero a partir de su experiencia se refleja en la tabla siguiente.\n",
    "\n",
    "Periódicos 30 40 50 60 70\n",
    "f(x) 20 % 25 % 25 % 20 % 10 %\n",
    "\n",
    "La tabla recoge por ejemplo que el 20 % del tiempo las ventas han sido de 30 periódicos. Teniendo en cuenta el coste de 0,20 euros por venta perdida y el coste de 0,10 euros por el reciclaje de cada periódico no vendido, determine el beneficio promedio diario si pide 50 periódicos cada día."
   ]
  },
  {
   "cell_type": "markdown",
   "id": "3f4e0678",
   "metadata": {},
   "source": [
    "### 1. Identificamos las variables\n",
    "\n",
    "Tenemos la variable de *ventas* que determinará nuestra otra variable de *beneficio*"
   ]
  },
  {
   "cell_type": "code",
   "execution_count": 164,
   "id": "faa3de11",
   "metadata": {},
   "outputs": [],
   "source": [
    "import numpy as np\n",
    "import random\n",
    "import matplotlib.pyplot as plt"
   ]
  },
  {
   "cell_type": "code",
   "execution_count": 165,
   "id": "a1f7e5f0",
   "metadata": {},
   "outputs": [],
   "source": [
    "def ventas_simuladas():\n",
    "    ventas=0\n",
    "    num_aleatorio = random.uniform(0.01, 1)\n",
    "    num  = round(num_aleatorio, 2)\n",
    "    if 0.0 < num <= 0.20:\n",
    "        ventas = 30\n",
    "    elif 0.20 < num <= 0.45:\n",
    "        ventas = 40\n",
    "    elif 0.45 < num <= 0.70:\n",
    "        ventas = 50\n",
    "    elif 0.70 < num <= 0.90:\n",
    "        ventas = 60\n",
    "    elif 0.90 < num <= 1.00:\n",
    "        ventas = 70\n",
    "    return ventas"
   ]
  },
  {
   "cell_type": "markdown",
   "id": "f39e59a3",
   "metadata": {},
   "source": [
    "### 2. Defina el modelo del sistema y los objetivos de la simulación\n",
    "\n",
    "Nuestro beneficio será dado por la siguiente ecuación: \n",
    "\n",
    "*beneficio* = (1.10)ventas_reales - (0.90)pedido - (0.10)no_vendidos - (0.20)ventas_perdidas\n",
    "\n",
    "El objetivo será determinar el beneficio promedio por cierto numero de ventas aleatorias."
   ]
  },
  {
   "cell_type": "code",
   "execution_count": 166,
   "id": "b6c914c9",
   "metadata": {},
   "outputs": [],
   "source": [
    "def beneficio_esperado(pedido):\n",
    "    beneficio = 0\n",
    "    ventas_reales = 0\n",
    "    ventas_perdidas = 0\n",
    "    no_vendidos = 0\n",
    "    ventas_del_dia = ventas_simuladas()\n",
    "    \n",
    "    if ventas_del_dia > pedido:\n",
    "        ventas_reales = pedido\n",
    "        ventas_perdidas = ventas_del_dia - pedido\n",
    "        no_vendidos = 0 \n",
    "        \n",
    "    else:\n",
    "        ventas_reales = ventas_del_dia\n",
    "        ventas_perdidas = 0\n",
    "        no_vendidos = pedido - ventas_reales\n",
    "    \n",
    "    beneficio = 1.10*ventas_reales - 0.90*pedido - 0.10*no_vendidos - 0.20*ventas_perdidas\n",
    "    return beneficio"
   ]
  },
  {
   "cell_type": "code",
   "execution_count": 167,
   "id": "5d6b62d2",
   "metadata": {},
   "outputs": [
    {
     "name": "stdout",
     "output_type": "stream",
     "text": [
      "Beneficio promedio diario: -14.0 euros\n"
     ]
    }
   ],
   "source": [
    "beneficio = beneficio_esperado(50)\n",
    "print(\"Beneficio promedio diario:\", round(beneficio, 2), \"euros\")"
   ]
  },
  {
   "cell_type": "markdown",
   "id": "dafa8625",
   "metadata": {},
   "source": [
    "### 3. Diseñe el experimento"
   ]
  },
  {
   "cell_type": "code",
   "execution_count": 168,
   "id": "a867e138",
   "metadata": {},
   "outputs": [],
   "source": [
    "def dias_simulados(dias):\n",
    "    lista =[]\n",
    "    beneficio_ = 0\n",
    "    for i in range(dias):\n",
    "        beneficio_ += beneficio_esperado(50)\n",
    "        lista.append(beneficio_/(i+1))\n",
    "    return lista"
   ]
  },
  {
   "cell_type": "code",
   "execution_count": 169,
   "id": "cf7b56e0",
   "metadata": {},
   "outputs": [
    {
     "name": "stdout",
     "output_type": "stream",
     "text": [
      "Ingrese el número de días para simular: 500\n"
     ]
    }
   ],
   "source": [
    "dias = int(input(\"Ingrese el número de días para simular: \"))\n",
    "exp = dias_simulados(dias)"
   ]
  },
  {
   "cell_type": "code",
   "execution_count": 170,
   "id": "223de9db",
   "metadata": {},
   "outputs": [
    {
     "data": {
      "text/plain": [
       "[<matplotlib.lines.Line2D at 0x22a61f8fe20>]"
      ]
     },
     "execution_count": 170,
     "metadata": {},
     "output_type": "execute_result"
    },
    {
     "data": {
      "image/png": "[encoded data removed]",
      "text/plain": [
       "<Figure size 640x480 with 1 Axes>"
      ]
     },
     "metadata": {},
     "output_type": "display_data"
    }
   ],
   "source": [
    "plt.plot(exp)"
   ]
  },
  {
   "cell_type": "code",
   "execution_count": 177,
   "id": "5045027f",
   "metadata": {},
   "outputs": [
    {
     "name": "stdout",
     "output_type": "stream",
     "text": [
      "1.0899247933646155 0.7886204165919594\n"
     ]
    }
   ],
   "source": [
    "print(np.mean(exp), np.std(exp))"
   ]
  },
  {
   "cell_type": "markdown",
   "id": "787a5591",
   "metadata": {},
   "source": [
    "### 4. Repita el experimento n veces"
   ]
  },
  {
   "cell_type": "code",
   "execution_count": 172,
   "id": "1686d582",
   "metadata": {},
   "outputs": [],
   "source": [
    "def modelo(n):\n",
    "    lista=[]\n",
    "    for i in range(n):\n",
    "        simulacion = dias_simulados(500)\n",
    "        lista.append(np.mean(simulacion))\n",
    "    return lista"
   ]
  },
  {
   "cell_type": "code",
   "execution_count": 173,
   "id": "6e87113b",
   "metadata": {},
   "outputs": [],
   "source": [
    "exp2 = modelo(40)"
   ]
  },
  {
   "cell_type": "code",
   "execution_count": 174,
   "id": "53859e82",
   "metadata": {},
   "outputs": [
    {
     "name": "stdout",
     "output_type": "stream",
     "text": [
      "1.5237666072132636 0.522259882429653\n"
     ]
    }
   ],
   "source": [
    "print(np.mean(exp2), np.std(exp2))"
   ]
  },
  {
   "cell_type": "code",
   "execution_count": 179,
   "id": "ea94f018",
   "metadata": {},
   "outputs": [
    {
     "data": {
      "image/png": "[encoded data removed]",
      "text/plain": [
       "<Figure size 640x480 with 1 Axes>"
      ]
     },
     "metadata": {},
     "output_type": "display_data"
    }
   ],
   "source": [
    "plt.hist(exp2)\n",
    "plt.show()"
   ]
  },
  {
   "cell_type": "code",
   "execution_count": 178,
   "id": "3e671acf",
   "metadata": {},
   "outputs": [
    {
     "name": "stdout",
     "output_type": "stream",
     "text": [
      "1.5237666072132636 0.522259882429653\n"
     ]
    }
   ],
   "source": [
    "print(np.mean(exp2), np.std(exp2))"
   ]
  },
  {
   "cell_type": "markdown",
   "id": "fe1a72e1",
   "metadata": {},
   "source": [
    "### 5. Hallamos el intervalo de confianza"
   ]
  },
  {
   "cell_type": "code",
   "execution_count": 176,
   "id": "cd2890a8",
   "metadata": {},
   "outputs": [
    {
     "data": {
      "text/plain": [
       "(1.3790035534854466, 1.6685296609410807)"
      ]
     },
     "execution_count": 176,
     "metadata": {},
     "output_type": "execute_result"
    }
   ],
   "source": [
    "np.mean(exp2) - 1.96*np.std(exp2)/np.sqrt(50), np.mean(exp2) + 1.96*np.std(exp2)/np.sqrt(50)"
   ]
  },
  {
   "cell_type": "code",
   "execution_count": 181,
   "id": "29058815",
   "metadata": {},
   "outputs": [],
   "source": [
    "N = (2*np.std(exp)*1.96/0.01)**2"
   ]
  },
  {
   "cell_type": "markdown",
   "id": "1e4eaf9b",
   "metadata": {},
   "source": [
    "### 6. Para determinar el número de simulaciones de ventas para optimizar"
   ]
  },
  {
   "cell_type": "code",
   "execution_count": 182,
   "id": "200aa255",
   "metadata": {},
   "outputs": [
    {
     "name": "stdout",
     "output_type": "stream",
     "text": [
      "95567.04701946156\n"
     ]
    }
   ],
   "source": [
    "print(N)"
   ]
  }
 ],
 "metadata": {
  "kernelspec": {
   "display_name": "Python 3 (ipykernel)",
   "language": "python",
   "name": "python3"
  },
  "language_info": {
   "codemirror_mode": {
    "name": "ipython",
    "version": 3
   },
   "file_extension": ".py",
   "mimetype": "text/x-python",
   "name": "python",
   "nbconvert_exporter": "python",
   "pygments_lexer": "ipython3",
   "version": "3.9.13"
  }
 },
 "nbformat": 4,
 "nbformat_minor": 5
}
